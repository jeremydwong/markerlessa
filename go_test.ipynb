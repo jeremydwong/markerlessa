{
 "cells": [
  {
   "cell_type": "code",
   "execution_count": 2,
   "metadata": {},
   "outputs": [],
   "source": [
    "#%%\n",
    "# import the necessary libraries\n",
    "import os                 # os is used to merge file names and directories\n",
    "import libreach as lr     # libreach is the library that contains helper functions\n",
    "import pandas as pd       # pandas for reading csv files\n",
    "import matplotlib         # matplotlib for plotting\n",
    "\n",
    "matplotlib.use('qtagg')   # allows interactive plotting, clicking on figures. \n",
    "\n",
    "# name of the data dir\n",
    "datadir = \"/Users/jeremy/OneDrive - University of Calgary/Zara Thesis Project/Python Refresher Assignments/\"\n",
    "\n",
    "# name of the R file\n",
    "fname_rotation = \"recording_11_28_21_gmt-7_by_trajectory.csv\"\n",
    "\n",
    "df    = pd.read_csv(os.path.join(datadir, fname_rotation))\n",
    "data = df[['left_foot_index_x', 'left_foot_index_y', 'left_foot_index_z']].to_numpy()\n",
    "R = lr.get_rotmat(data)\n"
   ]
  },
  {
   "cell_type": "code",
   "execution_count": 3,
   "metadata": {},
   "outputs": [
    {
     "data": {
      "text/plain": [
       "array([[-0.88191597,  0.44104648,  0.16643983],\n",
       "       [-0.47140392, -0.8263124 , -0.30819824],\n",
       "       [ 0.00160155, -0.35026534,  0.93664915]])"
      ]
     },
     "execution_count": 3,
     "metadata": {},
     "output_type": "execute_result"
    }
   ],
   "source": []
  },
  {
   "cell_type": "code",
   "execution_count": null,
   "metadata": {},
   "outputs": [],
   "source": []
  }
 ],
 "metadata": {
  "kernelspec": {
   "display_name": "markerlessa",
   "language": "python",
   "name": "python3"
  },
  "language_info": {
   "codemirror_mode": {
    "name": "ipython",
    "version": 3
   },
   "file_extension": ".py",
   "mimetype": "text/x-python",
   "name": "python",
   "nbconvert_exporter": "python",
   "pygments_lexer": "ipython3",
   "version": "3.11.10"
  }
 },
 "nbformat": 4,
 "nbformat_minor": 2
}
